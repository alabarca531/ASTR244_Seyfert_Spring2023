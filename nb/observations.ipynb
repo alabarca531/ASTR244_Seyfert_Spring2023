{
 "cells": [
  {
   "attachments": {},
   "cell_type": "markdown",
   "metadata": {},
   "source": [
    "# ASTR 244W: Observation Notebook\n",
    "The purpose of this notebook is to assist during observational time. This includes calculating how many observations to obtain a predetermiend S/N based on the current seeing, a built-in center-me, as well as any other tools used. "
   ]
  }
 ],
 "metadata": {
  "language_info": {
   "name": "python"
  },
  "orig_nbformat": 4
 },
 "nbformat": 4,
 "nbformat_minor": 2
}
