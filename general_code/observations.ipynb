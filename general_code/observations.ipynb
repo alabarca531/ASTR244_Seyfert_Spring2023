{
 "cells": [
  {
   "cell_type": "markdown",
   "metadata": {},
   "source": [
    "# ASTR 244W: Observation Notebook\n",
    "The purpose of this notebook is to assist during observational time. This includes calculating how many observations to obtain a predetermiend S/N based on the current seeing, a built-in center-me, as well as any other tools used. "
   ]
  },
  {
   "cell_type": "code",
   "execution_count": 1,
   "metadata": {},
   "outputs": [],
   "source": [
    "import numpy as np\n",
    "import matplotlib.pyplot\n",
    "from astropy.table import QTable\n",
    "import astropy.units as u\n",
    "from astropy.constants import h, e, c\n"
   ]
  },
  {
   "cell_type": "code",
   "execution_count": 2,
   "metadata": {},
   "outputs": [
    {
     "data": {
      "text/html": [
       "<div><i>QTable length=7</i>\n",
       "<table id=\"table5271888656\" class=\"table-striped table-bordered table-condensed\">\n",
       "<thead><tr><th>Filter</th><th>Wavelength</th><th>Bandwidth</th><th>Flux Density</th><th>Flux</th><th>Quantum Efficiency</th><th>Transmission of Optical System</th></tr></thead>\n",
       "<thead><tr><th></th><th>nm</th><th>nm</th><th>erg / (cm2 nm s)</th><th>erg / (cm2 s)</th><th></th><th></th></tr></thead>\n",
       "<thead><tr><th>str6</th><th>float64</th><th>float64</th><th>float64</th><th>float64</th><th>float64</th><th>float64</th></tr></thead>\n",
       "<tr><td>B</td><td>442.0</td><td>128.0</td><td>6.18e-08</td><td>7.9104e-06</td><td>0.6</td><td>0.95</td></tr>\n",
       "<tr><td>Hbeta</td><td>486.1</td><td>8.5</td><td>1.76e-08</td><td>9.84e-08</td><td>0.6</td><td>0.75</td></tr>\n",
       "<tr><td>[OIII]</td><td>500.7</td><td>8.5</td><td>4.67e-08</td><td>4.22e-07</td><td>0.6</td><td>0.75</td></tr>\n",
       "<tr><td>G</td><td>521.0</td><td>80.5</td><td>4.1e-08</td><td>3.3005000000000004e-06</td><td>0.6</td><td>0.95</td></tr>\n",
       "<tr><td>R</td><td>633.0</td><td>101.0</td><td>2.32e-08</td><td>2.3432e-06</td><td>0.6</td><td>0.95</td></tr>\n",
       "<tr><td>Halpha</td><td>656.3</td><td>7.0</td><td>1.76e-08</td><td>1.31e-07</td><td>0.6</td><td>0.75</td></tr>\n",
       "<tr><td>[SII]</td><td>670.0</td><td>8.0</td><td>1.92e-08</td><td>1.63e-07</td><td>0.6</td><td>0.75</td></tr>\n",
       "</table></div>"
      ],
      "text/plain": [
       "<QTable length=7>\n",
       "Filter Wavelength Bandwidth ... Quantum Efficiency Transmission of Optical System\n",
       "           nm         nm    ...                                                  \n",
       " str6   float64    float64  ...      float64                  float64            \n",
       "------ ---------- --------- ... ------------------ ------------------------------\n",
       "     B      442.0     128.0 ...                0.6                           0.95\n",
       " Hbeta      486.1       8.5 ...                0.6                           0.75\n",
       "[OIII]      500.7       8.5 ...                0.6                           0.75\n",
       "     G      521.0      80.5 ...                0.6                           0.95\n",
       "     R      633.0     101.0 ...                0.6                           0.95\n",
       "Halpha      656.3       7.0 ...                0.6                           0.75\n",
       " [SII]      670.0       8.0 ...                0.6                           0.75"
      ]
     },
     "execution_count": 2,
     "metadata": {},
     "output_type": "execute_result"
    }
   ],
   "source": [
    "# Parameters of the Mees Telescope -- the Filters\n",
    "\n",
    "# Background noise per pixel per exposure time\n",
    "n_per_time = (140 * 1.35 / (600*u.s))\n",
    "\n",
    "\n",
    "filt = np.array([\"B\", \"Hbeta\", \"[OIII]\", \"G\", \"R\", \"Halpha\", \"[SII]\"])\n",
    "wavelength = np.array([442, 486.1, 500.7, 521, 633, 656.3, 670.0]) * u.nm\n",
    "bandwidth = np.array([128, 8.5, 8.5, 80.5, 101, 7.0, 8.0]) * u.nm\n",
    "flux_density = np.array([6.18e-8, 1.76e-8, 4.67e-8, 4.10e-8, 2.32e-8, 1.76e-8, 1.92e-8])*u.erg/u.s/u.cm/u.cm/u.nm\n",
    "flux = np.array([(bandwidth[0]*flux_density[0]).value, 9.84e-8, 4.22e-7,\n",
    "                 (bandwidth[3]*flux_density[3]).value, (bandwidth[4]*flux_density[4]).value, \n",
    "                 1.31e-7, 1.63e-7]) * u.erg / u.s / u.cm / u.cm\n",
    "quantum_efficiency = np.array([0.6, 0.6, 0.6, 0.6, 0.6, 0.6, 0.6])\n",
    "transmission_of_optical_system = np.array([0.95, 0.75, 0.75, 0.95, 0.95, 0.75, 0.75])\n",
    "\n",
    "filters_information = QTable([filt, wavelength, bandwidth, flux_density, flux, quantum_efficiency, transmission_of_optical_system],\n",
    "                  names = ('Filter', 'Wavelength', 'Bandwidth', 'Flux Density', 'Flux', 'Quantum Efficiency', 'Transmission of Optical System'),\n",
    "                  meta= {'name': 'Filter parameters'})\n",
    "\n",
    "#Filter binning in 2x2\n",
    "pix_per_arc = (2 * 0.224 * u.arcsec )\n",
    "collecting_area = 2700 * u.cm * u.cm\n",
    "\n",
    "filters_information "
   ]
  },
  {
   "cell_type": "code",
   "execution_count": 3,
   "metadata": {},
   "outputs": [],
   "source": [
    "# Number of Pixels affected by seeing\n",
    "def seeing_to_pixels(seeing):\n",
    "    solid_angle = np.pi * seeing**2 / 4.0\n",
    "    return np.ceil(solid_angle / pix_per_arc**2)\n",
    "\n",
    "# Determine intensity of background light per electron charge\n",
    "def I_B(N_pixels, t_exposure):\n",
    "    result =  np.sqrt(N_pixels * (n_per_time * t_exposure)) / t_exposure\n",
    "    return result\n",
    "\n",
    "# Power needed to acheive a given SNR \n",
    "def P_SNR(desired_snr, seeing_pixel_num, t_exposure, tau, nu, lambda0):\n",
    "    return (\n",
    "        (desired_snr * h * c *  I_B(seeing_pixel_num, t_exposure) )\n",
    "            / (tau * nu  * lambda0 )\n",
    "            ).to(u.W)\n",
    "\n",
    "def power_of_target(magnitude, filter):\n",
    "    # Check if the filter is in the table\n",
    "    if filter not in filters_information['Filter']:\n",
    "        print(f'{filter} not in filters. Please choose from {filters_information[\"Filter\"]}')\n",
    "        return None\n",
    "    loc = np.where(filters_information['Filter'] == filter)[0][0]\n",
    "\n",
    "\n",
    "    F_mag = (filters_information[loc]['Flux'] * 10**(-magnitude/2.5)) * collecting_area\n",
    "    return F_mag.to(u.W)\n",
    "\n",
    "# Number of Observations of a target with a given magnitude in a given filter\n",
    "def num_obs(magnitude, filter, desired_snr, seeing, t_exposure):\n",
    "    seeing_pixel_num = seeing_to_pixels(seeing)\n",
    "    power = power_of_target(magnitude, filter)\n",
    "    if power is None:\n",
    "        return None\n",
    "    \n",
    "    # Take lambda0 to be the wavelength of the filter\n",
    "    lambda0 = filters_information[filters_information['Filter'] == filter]['Wavelength'][0]\n",
    "    tau = filters_information[filters_information['Filter'] == filter]['Transmission of Optical System'][0]\n",
    "    nu = filters_information[filters_information['Filter'] == filter]['Quantum Efficiency'][0]    \n",
    "\n",
    "    P_desired = P_SNR(desired_snr, \n",
    "              seeing_pixel_num, \n",
    "              t_exposure,\n",
    "              tau, \n",
    "              nu,\n",
    "              lambda0)\n",
    "    \n",
    "    return P_desired / power \n",
    "\n",
    "def print_table(num_obs_tab, snr, filter, t_exposure):\n",
    "    for i, v in enumerate(filter):\n",
    "        print(f'For {v} filter: A total observation time of {num_obs_tab[:,i]} are needed for SNR of {snr}.')\n",
    "    \n",
    "# Determine the number of observations given various parameters\n",
    "def num_obs_table(magnitude, seeing, t_exposure):\n",
    "    snr = np.array([5, 10])\n",
    "    filter = filters_information['Filter']\n",
    "    num_obs_tab = np.zeros((len(snr), len(filters_information)))\n",
    "    for i in range(len(snr)):\n",
    "        for j in range(len(filter)):\n",
    "            num_obs_tab[i][j] = num_obs(magnitude, filter[j], snr[i], seeing, t_exposure)\n",
    "    num_obs_tab = num_obs_tab **2 * t_exposure\n",
    "    print_table(num_obs_tab, snr, filter, t_exposure)"
   ]
  },
  {
   "cell_type": "code",
   "execution_count": 4,
   "metadata": {},
   "outputs": [],
   "source": [
    "#Printing exposure information for a given filter for S/N 5 & 10\n",
    "def filter_exp_info(exp_time, snr, Filter, t_exposure):\n",
    "    for i, v in enumerate(Filter):\n",
    "        time_5 = exp_time[0][i]\n",
    "        time_10 = exp_time[1][i]\n",
    "        print(f'{v} Filter')\n",
    "        print(f'S/N = {snr[0]} : Total exposure time: {time_5}. Total exposure count: {np.ceil(time_5/t_exposure)}')\n",
    "        print(f'S/N = {snr[1]}: Total exposure time: {time_10}. Total exposure count: {np.ceil(time_10/t_exposure)}')\n",
    "\n",
    "#Calculating exposure information for all filters\n",
    "def exposure_count(magnitude, seeing, t_exposure):\n",
    "    snr = [5,10]\n",
    "    Filter = filters_information['Filter']\n",
    "    exposure_time = np.zeros((len(snr), len(Filter)))\n",
    "    for i in range(len(snr)):\n",
    "        for j in range(len(Filter)):\n",
    "            exposure_time[i][j] = num_obs(magnitude, Filter[j], snr[i], seeing, t_exposure)\n",
    "    \n",
    "    exposure_time = exposure_time**2 * t_exposure\n",
    "    \n",
    "    print(f'Target Magnitude: {magnitude}')\n",
    "    print(f'Seeing: {seeing}')\n",
    "    print(f'Single Exposure Time: {t_exposure}')\n",
    "    print('______________________________')\n",
    "    filter_exp_info(exposure_time, snr, Filter, t_exposure)"
   ]
  },
  {
   "cell_type": "code",
   "execution_count": 12,
   "metadata": {},
   "outputs": [
    {
     "name": "stdout",
     "output_type": "stream",
     "text": [
      "Target Magnitude: 22\n",
      "Seeing: 3.0 arcsec\n",
      "Single Exposure Time: 300.0 s\n",
      "______________________________\n",
      "B Filter\n",
      "S/N = 5 : Total exposure time: 15.381116446867301 s. Total exposure count: 1.0\n",
      "S/N = 10: Total exposure time: 61.524465787469204 s. Total exposure count: 1.0\n",
      "Hbeta Filter\n",
      "S/N = 5 : Total exposure time: 131859.8365504524 s. Total exposure count: 440.0\n",
      "S/N = 10: Total exposure time: 527439.3462018096 s. Total exposure count: 1759.0\n",
      "[OIII] Filter\n",
      "S/N = 5 : Total exposure time: 6757.310687386839 s. Total exposure count: 23.0\n",
      "S/N = 10: Total exposure time: 27029.242749547357 s. Total exposure count: 91.0\n",
      "G Filter\n",
      "S/N = 5 : Total exposure time: 63.590811549963384 s. Total exposure count: 1.0\n",
      "S/N = 10: Total exposure time: 254.36324619985353 s. Total exposure count: 1.0\n",
      "R Filter\n",
      "S/N = 5 : Total exposure time: 85.46792316364551 s. Total exposure count: 1.0\n",
      "S/N = 10: Total exposure time: 341.87169265458203 s. Total exposure count: 2.0\n",
      "Halpha Filter\n",
      "S/N = 5 : Total exposure time: 40813.756796882975 s. Total exposure count: 137.0\n",
      "S/N = 10: Total exposure time: 163255.0271875319 s. Total exposure count: 545.0\n",
      "[SII] Filter\n",
      "S/N = 5 : Total exposure time: 25294.678153711975 s. Total exposure count: 85.0\n",
      "S/N = 10: Total exposure time: 101178.7126148479 s. Total exposure count: 338.0\n"
     ]
    }
   ],
   "source": [
    "#Example of exposure count\n",
    "exposure_count(22, 3*u.arcsec, 300*u.s)"
   ]
  },
  {
   "cell_type": "markdown",
   "metadata": {},
   "source": [
    "###### Examples from class"
   ]
  },
  {
   "cell_type": "code",
   "execution_count": 6,
   "metadata": {},
   "outputs": [
    {
     "name": "stdout",
     "output_type": "stream",
     "text": [
      "Power of 10th magnitude target in G filter: 8.911350000000002e-14 W\n",
      "Number of pixels affected by seeing of 2 arcsec: 16.0\n",
      "Power needed to acheive S/N = 5: 3.943269874081179e-19 W\n",
      "f=1.369399924253292\n",
      "Number of 600.0 s exposures: 2.0\n",
      "Total observation time: 1125.153691526953 s\n",
      "--------------------------------------------\n",
      "--------------------------------------------\n",
      "\n",
      "For a 9.52 magnitude star:\n",
      "__________________________\n",
      "For B filter: A total observation time of [0.38635618 1.54542471] s are needed for SNR of [ 5 10].\n",
      "For Hbeta filter: A total observation time of [ 3312.16934292 13248.67737169] s are needed for SNR of [ 5 10].\n",
      "For [OIII] filter: A total observation time of [169.73597029 678.94388117] s are needed for SNR of [ 5 10].\n",
      "For G filter: A total observation time of [1.59732897 6.38931587] s are needed for SNR of [ 5 10].\n",
      "For R filter: A total observation time of [2.14685717 8.58742866] s are needed for SNR of [ 5 10].\n",
      "For Halpha filter: A total observation time of [1025.19521917 4100.78087668] s are needed for SNR of [ 5 10].\n",
      "For [SII] filter: A total observation time of [ 635.37358844 2541.49435375] s are needed for SNR of [ 5 10].\n"
     ]
    }
   ],
   "source": [
    "# Examples completed in class\n",
    "# 10th magnitude star in G filter\n",
    "Example1 = power_of_target(10, 'G')\n",
    "print(f'Power of 10th magnitude target in G filter: {Example1}')\n",
    "\n",
    "# Number of Pixels effected by seeing of 2 arcsec\n",
    "Example2 = seeing_to_pixels(2.0 * u.arcsec)\n",
    "print(f'Number of pixels affected by seeing of 2 arcsec: {Example2}')\n",
    "\n",
    "# Power needed to acheive S/N = 5\n",
    "Example2Half = P_SNR(5, Example2, 600*u.s, 0.95, 0.45, 0.54 * u.um)\n",
    "\n",
    "print(f'Power needed to acheive S/N = 5: {Example2Half}')\n",
    "\n",
    "# Number of 600 second observations of 24th magnitude star in G filter to acheive S/N = 5\n",
    "Example3 = num_obs(magnitude = 24,\n",
    "                   filter = 'G',\n",
    "                   desired_snr = 5,\n",
    "                   seeing = 2.0 * u.arcsec,\n",
    "                   t_exposure = 600*u.s)\n",
    "\n",
    "print(f'f={Example3}')\n",
    "print(f'Number of {600*u.s} exposures: {np.ceil(Example3**2)}')\n",
    "\n",
    "print(f'Total observation time: {Example3**2 * 600 * u.s}')\n",
    "print(\"--------------------------------------------\")\n",
    "print(\"--------------------------------------------\\n\")\n",
    "print(\"For a 9.52 magnitude star:\")\n",
    "print(\"__________________________\")\n",
    "num_obs_table(magnitude = 20, seeing = 3.0 * u.arcsec, t_exposure = 300 * u.s)"
   ]
  }
 ],
 "metadata": {
  "kernelspec": {
   "display_name": "astro",
   "language": "python",
   "name": "astro"
  },
  "language_info": {
   "codemirror_mode": {
    "name": "ipython",
    "version": 3
   },
   "file_extension": ".py",
   "mimetype": "text/x-python",
   "name": "python",
   "nbconvert_exporter": "python",
   "pygments_lexer": "ipython3",
   "version": "3.9.16"
  },
  "vscode": {
   "interpreter": {
    "hash": "aee8b7b246df8f9039afb4144a1f6fd8d2ca17a180786b69acc140d282b71a49"
   }
  }
 },
 "nbformat": 4,
 "nbformat_minor": 2
}
