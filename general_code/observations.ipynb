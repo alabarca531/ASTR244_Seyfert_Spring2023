{
 "cells": [
  {
   "cell_type": "markdown",
   "metadata": {},
   "source": [
    "# ASTR 244W: Observation Notebook\n",
    "The purpose of this notebook is to assist during observational time. This includes calculating how many observations to obtain a predetermiend S/N based on the current seeing, a built-in center-me, as well as any other tools used. "
   ]
  },
  {
   "cell_type": "code",
   "execution_count": 4,
   "metadata": {},
   "outputs": [],
   "source": [
    "import numpy as np\n",
    "import matplotlib.pyplot\n",
    "from astropy.table import QTable\n",
    "import astropy.units as u\n",
    "from astropy.constants import h, e, c\n"
   ]
  },
  {
   "cell_type": "code",
   "execution_count": 57,
   "metadata": {},
   "outputs": [
    {
     "data": {
      "text/html": [
       "<div><i>QTable length=7</i>\n",
       "<table id=\"table4955953760\" class=\"table-striped table-bordered table-condensed\">\n",
       "<thead><tr><th>Filter</th><th>Wavelength</th><th>Bandwidth</th><th>Flux Density</th><th>Flux</th><th>Quantum Efficiency</th><th>Transmission of Optical System</th></tr></thead>\n",
       "<thead><tr><th></th><th>nm</th><th>nm</th><th>erg / (cm2 nm s)</th><th>erg / (cm2 s)</th><th></th><th></th></tr></thead>\n",
       "<thead><tr><th>str6</th><th>float64</th><th>float64</th><th>float64</th><th>float64</th><th>float64</th><th>float64</th></tr></thead>\n",
       "<tr><td>B</td><td>442.0</td><td>128.0</td><td>6.18e-08</td><td>7.9104e-06</td><td>0.45</td><td>0.95</td></tr>\n",
       "<tr><td>Hbeta</td><td>486.1</td><td>8.5</td><td>1.76e-08</td><td>9.84e-08</td><td>0.45</td><td>0.75</td></tr>\n",
       "<tr><td>[OIII]</td><td>500.7</td><td>8.5</td><td>4.67e-08</td><td>4.22e-07</td><td>0.45</td><td>0.75</td></tr>\n",
       "<tr><td>G</td><td>521.0</td><td>80.5</td><td>4.1e-08</td><td>3.3005000000000004e-06</td><td>0.45</td><td>0.95</td></tr>\n",
       "<tr><td>R</td><td>633.0</td><td>101.0</td><td>2.32e-08</td><td>2.3432e-06</td><td>0.45</td><td>0.95</td></tr>\n",
       "<tr><td>Halpha</td><td>656.3</td><td>7.0</td><td>1.76e-08</td><td>1.31e-07</td><td>0.45</td><td>0.75</td></tr>\n",
       "<tr><td>[SII]</td><td>670.0</td><td>8.0</td><td>1.92e-08</td><td>1.63e-07</td><td>0.45</td><td>0.75</td></tr>\n",
       "</table></div>"
      ],
      "text/plain": [
       "<QTable length=7>\n",
       "Filter Wavelength ... Quantum Efficiency Transmission of Optical System\n",
       "           nm     ...                                                  \n",
       " str6   float64   ...      float64                  float64            \n",
       "------ ---------- ... ------------------ ------------------------------\n",
       "     B      442.0 ...               0.45                           0.95\n",
       " Hbeta      486.1 ...               0.45                           0.75\n",
       "[OIII]      500.7 ...               0.45                           0.75\n",
       "     G      521.0 ...               0.45                           0.95\n",
       "     R      633.0 ...               0.45                           0.95\n",
       "Halpha      656.3 ...               0.45                           0.75\n",
       " [SII]      670.0 ...               0.45                           0.75"
      ]
     },
     "execution_count": 57,
     "metadata": {},
     "output_type": "execute_result"
    }
   ],
   "source": [
    "# Parameters of the Mees Telescope -- the Filters\n",
    "\n",
    "# Background noise per pixel per exposure time\n",
    "n_per_time = (140 / 600 / u.s ) * 1.35 \n",
    "\n",
    "\n",
    "filt = np.array([\"B\", \"Hbeta\", \"[OIII]\", \"G\", \"R\", \"Halpha\", \"[SII]\"])\n",
    "wavelength = np.array([442, 486.1, 500.7, 521, 633, 656.3, 670.0]) * u.nm\n",
    "bandwidth = np.array([128, 8.5, 8.5, 80.5, 101, 7.0, 8.0]) * u.nm\n",
    "flux_density = np.array([6.18e-8, 1.76e-8, 4.67e-8, 4.10e-8, 2.32e-8, 1.76e-8, 1.92e-8])*u.erg/u.s/u.cm/u.cm/u.nm\n",
    "flux = np.array([(bandwidth[0]*flux_density[0]).value, 9.84e-8, 4.22e-7,\n",
    "                 (bandwidth[3]*flux_density[3]).value, (bandwidth[4]*flux_density[4]).value, \n",
    "                 1.31e-7, 1.63e-7]) * u.erg / u.s / u.cm / u.cm\n",
    "quantum_efficiency = np.array([0.45, 0.45, 0.45, 0.45, 0.45, 0.45, 0.45])\n",
    "transmission_of_optical_system = np.array([0.95, 0.75, 0.75, 0.95, 0.95, 0.75, 0.75])\n",
    "\n",
    "filters_information = QTable([filt, wavelength, bandwidth, flux_density, flux, quantum_efficiency, transmission_of_optical_system],\n",
    "                  names = ('Filter', 'Wavelength', 'Bandwidth', 'Flux Density', 'Flux', 'Quantum Efficiency', 'Transmission of Optical System'),\n",
    "                  meta= {'name': 'Filter parameters'})\n",
    "\n",
    "pix_per_arc = (0.224 *u.arcsec )\n",
    "collecting_area = 2700 * u.cm * u.cm\n",
    "\n",
    "filters_information "
   ]
  },
  {
   "cell_type": "code",
   "execution_count": 94,
   "metadata": {},
   "outputs": [],
   "source": [
    "# Number of Pixels affected by seeing\n",
    "def seeing_to_pixels(seeing):\n",
    "    solid_angle = np.pi * seeing**2 / 4.0\n",
    "    return np.ceil(solid_angle / pix_per_arc**2 + 1)\n",
    "\n",
    "# Determine intensity of background light per electron charge\n",
    "def I_B(N_pixels, t_exposure):\n",
    "    result =  np.sqrt(N_pixels * (n_per_time * t_exposure)) / t_exposure\n",
    "    return result\n",
    "\n",
    "# Power needed to acheive a given SNR \n",
    "def P_SNR(desired_snr, seeing_pixel_num, t_exposure, tau, nu, lambda0):\n",
    "    return (\n",
    "        (desired_snr * h * c *  I_B(seeing_pixel_num, t_exposure) )\n",
    "            / (tau * nu  * lambda0 )\n",
    "            ).to(u.W)\n",
    "\n",
    "def power_of_target(magnitude, filter):\n",
    "    # Check if the filter is in the table\n",
    "    if filter not in filters_information['Filter']:\n",
    "        print(f'{filter} not in filters. Please choose from {filters_information[\"Filter\"]}')\n",
    "        return None\n",
    "    loc = np.where(filters_information['Filter'] == filter)[0][0]\n",
    "\n",
    "\n",
    "    F_mag = (filters_information[loc]['Flux Density'] * filters_information[loc]['Bandwidth'] * 10**(-magnitude/2.5)) * collecting_area\n",
    "    return F_mag.to(u.W)\n",
    "\n",
    "# Number of Observations of a target with a given magnitude in a given filter\n",
    "def num_obs(magnitude, filter, desired_snr, seeing, t_exposure):\n",
    "    seeing_pixel_num = seeing_to_pixels(seeing)\n",
    "    power = power_of_target(magnitude, filter)\n",
    "    if power is None:\n",
    "        return None\n",
    "    \n",
    "    # Take lambda0 to be the wavelength of the filter\n",
    "    lambda0 = filters_information[filters_information['Filter'] == filter]['Wavelength'][0]\n",
    "    tau = filters_information[filters_information['Filter'] == filter]['Transmission of Optical System'][0]\n",
    "    nu = filters_information[filters_information['Filter'] == filter]['Quantum Efficiency'][0]    \n",
    "\n",
    "    P_desired = P_SNR(desired_snr, \n",
    "              seeing_pixel_num, \n",
    "              t_exposure,\n",
    "              tau, \n",
    "              nu,\n",
    "              lambda0)\n",
    "    \n",
    "    return P_desired / power \n",
    "\n",
    "def print_table(num_obs_tab, snr, filter, t_exposure):\n",
    "    for i, v in enumerate(filter):\n",
    "        print(f'For {v} filter: A total observation time of {num_obs_tab[:,i]} are needed for SNR of {snr}.')\n",
    "    \n",
    "# Determine the number of observations given various parameters\n",
    "def num_obs_table(magnitude, seeing, t_exposure):\n",
    "    snr = np.array([5, 10])\n",
    "    filter = filters_information['Filter']\n",
    "    num_obs_tab = np.zeros((len(snr), len(filters_information)))\n",
    "    for i in range(len(snr)):\n",
    "        for j in range(len(filter)):\n",
    "            num_obs_tab[i][j] = num_obs(magnitude, filter[j], snr[i], seeing, t_exposure)\n",
    "    num_obs_tab = num_obs_tab **2 * t_exposure\n",
    "    print_table(num_obs_tab, snr, filter, t_exposure)\n",
    "    "
   ]
  },
  {
   "cell_type": "code",
   "execution_count": 99,
   "metadata": {},
   "outputs": [
    {
     "name": "stdout",
     "output_type": "stream",
     "text": [
      "Power of 24th magnitude target in G filter: 8.911350000000002e-14 W\n",
      "Number of pixels affected by seeing of 2 arcsec: 64.0\n",
      "Power needed to acheive S/N = 5: 9.061130774484412e-19 W\n",
      "f=3.651733131342112\n",
      "Number of 600.0 s exposures: 13.335154862541666\n",
      "Total observation time: 8001.092917524999 s\n",
      "--------------------------------------------\n",
      "--------------------------------------------\n",
      "\n",
      "For a 9.52 magnitude star:\n",
      "__________________________\n",
      "For B filter: A total observation time of [ 7.49817173 29.99268693] s are needed for SNR of [ 5 10].\n",
      "For Hbeta filter: A total observation time of [ 27810.38913224 111241.55652898] s are needed for SNR of [ 5 10].\n",
      "For [OIII] filter: A total observation time of [ 3723.01425895 14892.05703582] s are needed for SNR of [ 5 10].\n",
      "For G filter: A total observation time of [ 31.00001403 124.00005611] s are needed for SNR of [ 5 10].\n",
      "For R filter: A total observation time of [ 41.66493165 166.65972661] s are needed for SNR of [ 5 10].\n",
      "For Halpha filter: A total observation time of [22495.48032758 89981.92131034] s are needed for SNR of [ 5 10].\n",
      "For [SII] filter: A total observation time of [13886.39319228 55545.57276911] s are needed for SNR of [ 5 10].\n"
     ]
    }
   ],
   "source": [
    "# Examples completed in class\n",
    "# 10th magnitude star in G filter\n",
    "Example1 = power_of_target(10, 'G')\n",
    "print(f'Power of 24th magnitude target in G filter: {Example1}')\n",
    "\n",
    "# Number of Pixels effected by seeing of 2 arcsec\n",
    "Example2 = seeing_to_pixels(2.0 * u.arcsec)\n",
    "print(f'Number of pixels affected by seeing of 2 arcsec: {Example2}')\n",
    "\n",
    "# Power needed to acheive S/N = 5\n",
    "Example2Half = P_SNR(5, Example2, 600*u.s, 0.95, 0.45, 0.47 * u.um)\n",
    "\n",
    "print(f'Power needed to acheive S/N = 5: {Example2Half}')\n",
    "\n",
    "# Number of 600 second observations of 24th magnitude star in G filter to acheive S/N = 5\n",
    "Example3 = num_obs(magnitude = 24,\n",
    "                   filter = 'G',\n",
    "                   desired_snr = 5,\n",
    "                   seeing = 2.0 * u.arcsec,\n",
    "                   t_exposure = 600*u.s)\n",
    "\n",
    "print(f'f={Example3}')\n",
    "print(f'Number of {600*u.s} exposures: {Example3**2}')\n",
    "\n",
    "print(f'Total observation time: {Example3**2 * 600 * u.s}')\n",
    "print(\"--------------------------------------------\")\n",
    "print(\"--------------------------------------------\\n\")\n",
    "print(\"For a 9.52 magnitude star:\")\n",
    "print(\"__________________________\")\n",
    "num_obs_table(magnitude = 20, seeing = 5.0 * u.arcsec, t_exposure = 30 * u.s)"
   ]
  },
  {
   "cell_type": "markdown",
   "metadata": {},
   "source": [
    "# Plot "
   ]
  },
  {
   "cell_type": "code",
   "execution_count": 9,
   "metadata": {},
   "outputs": [],
   "source": [
    "# Plot S/N as a function of total observation time\n"
   ]
  }
 ],
 "metadata": {
  "kernelspec": {
   "display_name": "desi",
   "language": "python",
   "name": "python3"
  },
  "language_info": {
   "codemirror_mode": {
    "name": "ipython",
    "version": 3
   },
   "file_extension": ".py",
   "mimetype": "text/x-python",
   "name": "python",
   "nbconvert_exporter": "python",
   "pygments_lexer": "ipython3",
   "version": "3.9.15"
  },
  "vscode": {
   "interpreter": {
    "hash": "79e6db662e9b2f6d8f249e4978b53d7b98e35e889be3bd47bf9ff80102953f83"
   }
  }
 },
 "nbformat": 4,
 "nbformat_minor": 2
}

